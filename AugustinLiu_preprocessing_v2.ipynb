{
 "cells": [
  {
   "cell_type": "code",
   "execution_count": null,
   "metadata": {
    "ExecuteTime": {
     "end_time": "2024-12-13T20:48:15.092941Z",
     "start_time": "2024-12-13T20:48:14.542152Z"
    },
    "colab": {
     "base_uri": "https://localhost:8080/"
    },
    "id": "CDG4No3Lm0Tv",
    "outputId": "3e45a691-065a-4e80-e284-34803a7dcc98"
   },
   "outputs": [
    {
     "ename": "ModuleNotFoundError",
     "evalue": "No module named 'google.colab'",
     "output_type": "error",
     "traceback": [
      "\u001b[0;31m---------------------------------------------------------------------------\u001b[0m",
      "\u001b[0;31mModuleNotFoundError\u001b[0m                       Traceback (most recent call last)",
      "Cell \u001b[0;32mIn[1], line 3\u001b[0m\n\u001b[1;32m      1\u001b[0m \u001b[38;5;28;01mimport\u001b[39;00m \u001b[38;5;21;01mpandas\u001b[39;00m \u001b[38;5;28;01mas\u001b[39;00m \u001b[38;5;21;01mpd\u001b[39;00m\n\u001b[0;32m----> 3\u001b[0m \u001b[38;5;28;01mfrom\u001b[39;00m \u001b[38;5;21;01mgoogle\u001b[39;00m\u001b[38;5;21;01m.\u001b[39;00m\u001b[38;5;21;01mcolab\u001b[39;00m \u001b[38;5;28;01mimport\u001b[39;00m drive\n\u001b[1;32m      4\u001b[0m drive\u001b[38;5;241m.\u001b[39mmount(\u001b[38;5;124m'\u001b[39m\u001b[38;5;124m/content/drive\u001b[39m\u001b[38;5;124m'\u001b[39m)\n",
      "\u001b[0;31mModuleNotFoundError\u001b[0m: No module named 'google.colab'"
     ]
    }
   ],
   "source": [
    "import pandas as pd\n",
    "\n",
    "from google.colab import drive\n",
    "drive.mount('/content/drive')"
   ]
  },
  {
   "cell_type": "code",
   "execution_count": null,
   "metadata": {
    "ExecuteTime": {
     "end_time": "2024-12-13T20:48:15.334105Z",
     "start_time": "2024-12-13T20:48:15.322042Z"
    },
    "colab": {
     "base_uri": "https://localhost:8080/",
     "height": 215
    },
    "id": "GDYHLF7fay_N",
    "outputId": "4b7ce5ca-8282-42fe-94e8-3653e24e2786"
   },
   "outputs": [
    {
     "ename": "ModuleNotFoundError",
     "evalue": "No module named 'google.colab'",
     "output_type": "error",
     "traceback": [
      "\u001b[0;31m---------------------------------------------------------------------------\u001b[0m",
      "\u001b[0;31mModuleNotFoundError\u001b[0m                       Traceback (most recent call last)",
      "Cell \u001b[0;32mIn[2], line 1\u001b[0m\n\u001b[0;32m----> 1\u001b[0m \u001b[38;5;28;01mfrom\u001b[39;00m \u001b[38;5;21;01mgoogle\u001b[39;00m\u001b[38;5;21;01m.\u001b[39;00m\u001b[38;5;21;01mcolab\u001b[39;00m \u001b[38;5;28;01mimport\u001b[39;00m files\n\u001b[1;32m      2\u001b[0m uploaded \u001b[38;5;241m=\u001b[39m files\u001b[38;5;241m.\u001b[39mupload()\n",
      "\u001b[0;31mModuleNotFoundError\u001b[0m: No module named 'google.colab'"
     ]
    }
   ],
   "source": [
    "from google.colab import files\n",
    "uploaded = files.upload()"
   ]
  },
  {
   "cell_type": "code",
   "execution_count": null,
   "metadata": {
    "colab": {
     "base_uri": "https://localhost:8080/",
     "height": 382
    },
    "id": "JxEGNM9wXirI",
    "outputId": "339c702d-50eb-4f72-aef7-81be9efbbeef"
   },
   "outputs": [
    {
     "name": "stderr",
     "output_type": "stream",
     "text": [
      "Downloading...\n",
      "From: https://drive.google.com/uc?id=1AU2-4P_qRSp-OnEskYJnCTrzbUaOpkPR\n",
      "To: /content/numbeo_cost_of_living_index.csv\n",
      "100%|██████████| 12.2k/12.2k [00:00<00:00, 23.4MB/s]\n",
      "Downloading...\n",
      "From: https://drive.google.com/uc?id=1M06W33JmAEZbK6EAnnd5cfnn9f02rxxk\n",
      "To: /content/zillow_home_values.csv\n",
      "100%|██████████| 85.4M/85.4M [00:00<00:00, 231MB/s]\n",
      "Downloading...\n",
      "From: https://drive.google.com/uc?id=1Q1ykfW28vS3Ew58SE3kB5GiWu7FkGl6V\n",
      "To: /content/cdc_local_health_data.csv\n",
      "100%|██████████| 56.1M/56.1M [00:01<00:00, 46.5MB/s]\n",
      "Downloading...\n",
      "From: https://drive.google.com/uc?id=1nP9a7YTVGZgZhk60thsBepR_GVOiY2Vs\n",
      "To: /content/Private_Schools.csv\n",
      "100%|██████████| 14.2M/14.2M [00:00<00:00, 120MB/s]\n",
      "Downloading...\n",
      "From: https://drive.google.com/uc?id=1L-SLdd1Zfvh4wBfL3bDkAgxtUhPHG206\n",
      "To: /content/Public_Schools.csv\n",
      "100%|██████████| 43.4M/43.4M [00:00<00:00, 79.2MB/s]\n"
     ]
    },
    {
     "data": {
      "application/vnd.google.colaboratory.intrinsic+json": {
       "type": "string"
      },
      "text/plain": [
       "'Public_Schools.csv'"
      ]
     },
     "execution_count": 2,
     "metadata": {},
     "output_type": "execute_result"
    }
   ],
   "source": [
    "import gdown\n",
    "\n",
    "# Downloading numero COL\n",
    "numero_file_id = '1AU2-4P_qRSp-OnEskYJnCTrzbUaOpkPR'\n",
    "gdown.download(f'https://drive.google.com/uc?id={numero_file_id}', 'numbeo_cost_of_living_index.csv', quiet=False)\n",
    "# Downloading zillow COL\n",
    "zillow_file_id = '1M06W33JmAEZbK6EAnnd5cfnn9f02rxxk'\n",
    "gdown.download(f'https://drive.google.com/uc?id={zillow_file_id}', 'zillow_home_values.csv', quiet=False)\n",
    "# Downloading health\n",
    "health_file_id = '1Q1ykfW28vS3Ew58SE3kB5GiWu7FkGl6V'\n",
    "gdown.download(f'https://drive.google.com/uc?id={health_file_id}', 'cdc_local_health_data.csv', quiet=False)\n",
    "# Downloading schools\n",
    "private_school_file_id = '1nP9a7YTVGZgZhk60thsBepR_GVOiY2Vs'\n",
    "gdown.download(f'https://drive.google.com/uc?id={private_school_file_id}', 'Private_Schools.csv', quiet=False)\n",
    "public_school_file_id = '1L-SLdd1Zfvh4wBfL3bDkAgxtUhPHG206'\n",
    "gdown.download(f'https://drive.google.com/uc?id={public_school_file_id}', 'Public_Schools.csv', quiet=False)"
   ]
  },
  {
   "cell_type": "code",
   "execution_count": null,
   "metadata": {
    "ExecuteTime": {
     "end_time": "2024-12-13T20:53:18.810647Z",
     "start_time": "2024-12-13T20:53:17.251935Z"
    },
    "colab": {
     "base_uri": "https://localhost:8080/"
    },
    "id": "akcRzpK-jzVj",
    "outputId": "c99b0292-09f0-486e-ec09-7d2a146b89cb"
   },
   "outputs": [
    {
     "name": "stderr",
     "output_type": "stream",
     "text": [
      "/var/folders/29/x0y631pn7rz5mp2yrd35gjm00000gn/T/ipykernel_84854/382133584.py:5: DtypeWarning: Columns (10,11) have mixed types. Specify dtype option on import or set low_memory=False.\n",
      "  health_DB = pd.read_csv('cdc_local_health_data.csv')\n"
     ]
    }
   ],
   "source": [
    "# Read the CSV\n",
    "import pandas as pd\n",
    "numero_DB = pd.read_csv('numbeo_cost_of_living_index.csv')\n",
    "zillow_DB = pd.read_csv('zillow_home_values.csv')\n",
    "health_DB = pd.read_csv('cdc_local_health_data.csv')\n",
    "private_schools = pd.read_csv('Private_Schools.csv')\n",
    "public_schools = pd.read_csv('Public_Schools.csv')"
   ]
  },
  {
   "cell_type": "code",
   "execution_count": null,
   "metadata": {
    "ExecuteTime": {
     "end_time": "2024-12-15T01:48:33.624005Z",
     "start_time": "2024-12-15T01:48:33.618787Z"
    },
    "id": "S6KPhMqBvVC6"
   },
   "outputs": [],
   "source": [
    "from titlecase import titlecase\n",
    "import re\n",
    "import numpy as np"
   ]
  },
  {
   "cell_type": "code",
   "execution_count": null,
   "metadata": {
    "ExecuteTime": {
     "end_time": "2024-12-15T01:49:57.532987Z",
     "start_time": "2024-12-15T01:49:57.524796Z"
    },
    "id": "e8-5r0AWQzsh"
   },
   "outputs": [],
   "source": [
    "numbeo_DB = pd.read_csv('numbeo_cost_of_living_index.csv')\n",
    "\n",
    "# Drop 'Rank' column\n",
    "cleaned_numbeo = numbeo_DB.drop(columns=['Rank'])\n",
    "\n",
    "# Split 'City' into 'City' and 'Country'\n",
    "city_country_split = cleaned_numbeo['City'].str.split(',', n=1, expand=True)\n",
    "cleaned_numbeo['City'] = city_country_split[0].str.strip()\n",
    "cleaned_numbeo['Country'] = city_country_split[1].str.strip().fillna(np.nan)  # Fill missing countries with 'null'\n",
    "\n",
    "# Now split 'Country' into 'State' and 'Country' only for rows with a comma in 'Country'\n",
    "# This avoids accidentally modifying valid country names\n",
    "state_country_split = cleaned_numbeo['Country'].str.split(',', n=1, expand=True)\n",
    "\n",
    "# Update 'State' and 'Country' only if there's a comma\n",
    "cleaned_numbeo['State'] = state_country_split[0].where(cleaned_numbeo['Country'].str.contains(','), None)\n",
    "cleaned_numbeo['Country'] = state_country_split[1].fillna(cleaned_numbeo['Country']).str.strip()\n",
    "\n",
    "# Display the cleaned DataFrame with selected columns\n",
    "cleaned_columns = ['City', 'Country', 'Cost of Living Index', 'Rent Index', 'Cost of Living Plus Rent Index',\n",
    "                   'Groceries Index', 'Restaurant Price Index', 'Local Purchasing Power Index']\n",
    "cleaned_numbeo = cleaned_numbeo[cleaned_columns]"
   ]
  },
  {
   "cell_type": "code",
   "execution_count": null,
   "metadata": {
    "ExecuteTime": {
     "end_time": "2024-12-15T01:49:58.646050Z",
     "start_time": "2024-12-15T01:49:58.643314Z"
    },
    "id": "H8HogwB_vVC8",
    "outputId": "355956bc-0466-458b-ebf6-59e4e16a8732"
   },
   "outputs": [
    {
     "data": {
      "text/plain": [
       "0"
      ]
     },
     "execution_count": 284,
     "metadata": {},
     "output_type": "execute_result"
    }
   ],
   "source": [
    "cleaned_numbeo.isna().sum().sum()"
   ]
  },
  {
   "cell_type": "code",
   "execution_count": null,
   "metadata": {
    "ExecuteTime": {
     "end_time": "2024-12-15T01:50:59.995433Z",
     "start_time": "2024-12-15T01:50:59.991680Z"
    },
    "colab": {
     "base_uri": "https://localhost:8080/"
    },
    "id": "gDyFMZt_mtMI",
    "outputId": "f33583cb-4e18-4f91-807c-f1b505e1e649"
   },
   "outputs": [
    {
     "name": "stdout",
     "output_type": "stream",
     "text": [
      "218 218\n"
     ]
    }
   ],
   "source": [
    "print(len(cleaned_numbeo), cleaned_numbeo.apply(lambda x: (x['City'], x['Country']), axis=1).nunique())"
   ]
  },
  {
   "cell_type": "code",
   "execution_count": null,
   "metadata": {
    "ExecuteTime": {
     "end_time": "2024-12-13T22:28:43.519283Z",
     "start_time": "2024-12-13T22:28:43.515925Z"
    },
    "id": "WoVYMulqvVC9"
   },
   "outputs": [],
   "source": [
    "cleaned_numbeo.to_csv(\"cost_of_living.csv\", index=False)"
   ]
  },
  {
   "cell_type": "code",
   "execution_count": null,
   "metadata": {
    "id": "XaKSl4OgvVC-",
    "outputId": "71bda65c-0df0-4fcd-a1ee-bcc51051c3dc"
   },
   "outputs": [
    {
     "data": {
      "text/plain": [
       "11.3"
      ]
     },
     "execution_count": 8,
     "metadata": {},
     "output_type": "execute_result"
    }
   ],
   "source": [
    "cleaned_numbeo['Cost of Living Plus Rent Index'].min()"
   ]
  },
  {
   "cell_type": "code",
   "execution_count": null,
   "metadata": {
    "id": "JgtCdZL9vVC_"
   },
   "outputs": [],
   "source": [
    "cleaned_numbeo = cleaned_numbeo.drop(columns=\"State\")"
   ]
  },
  {
   "cell_type": "code",
   "execution_count": null,
   "metadata": {
    "ExecuteTime": {
     "end_time": "2024-12-13T20:55:30.937661Z",
     "start_time": "2024-12-13T20:55:30.928106Z"
    },
    "colab": {
     "base_uri": "https://localhost:8080/",
     "height": 423
    },
    "id": "dHNjDJp8djvK",
    "outputId": "68d7a54f-0ded-4ee9-dc4d-2f0da9b23c3a"
   },
   "outputs": [
    {
     "data": {
      "text/html": [
       "<div>\n",
       "<style scoped>\n",
       "    .dataframe tbody tr th:only-of-type {\n",
       "        vertical-align: middle;\n",
       "    }\n",
       "\n",
       "    .dataframe tbody tr th {\n",
       "        vertical-align: top;\n",
       "    }\n",
       "\n",
       "    .dataframe thead th {\n",
       "        text-align: right;\n",
       "    }\n",
       "</style>\n",
       "<table border=\"1\" class=\"dataframe\">\n",
       "  <thead>\n",
       "    <tr style=\"text-align: right;\">\n",
       "      <th></th>\n",
       "      <th>SizeRank</th>\n",
       "      <th>City</th>\n",
       "      <th>CountyName</th>\n",
       "      <th>State</th>\n",
       "      <th>HomePrice</th>\n",
       "    </tr>\n",
       "  </thead>\n",
       "  <tbody>\n",
       "    <tr>\n",
       "      <th>0</th>\n",
       "      <td>0</td>\n",
       "      <td>New York</td>\n",
       "      <td>Queens County</td>\n",
       "      <td>NY</td>\n",
       "      <td>757539.748841</td>\n",
       "    </tr>\n",
       "    <tr>\n",
       "      <th>1</th>\n",
       "      <td>1</td>\n",
       "      <td>Los Angeles</td>\n",
       "      <td>Los Angeles County</td>\n",
       "      <td>CA</td>\n",
       "      <td>950031.781195</td>\n",
       "    </tr>\n",
       "    <tr>\n",
       "      <th>2</th>\n",
       "      <td>2</td>\n",
       "      <td>Houston</td>\n",
       "      <td>Harris County</td>\n",
       "      <td>TX</td>\n",
       "      <td>265842.211207</td>\n",
       "    </tr>\n",
       "    <tr>\n",
       "      <th>3</th>\n",
       "      <td>3</td>\n",
       "      <td>Chicago</td>\n",
       "      <td>Cook County</td>\n",
       "      <td>IL</td>\n",
       "      <td>294789.100621</td>\n",
       "    </tr>\n",
       "    <tr>\n",
       "      <th>4</th>\n",
       "      <td>4</td>\n",
       "      <td>San Antonio</td>\n",
       "      <td>Bexar County</td>\n",
       "      <td>TX</td>\n",
       "      <td>254032.290605</td>\n",
       "    </tr>\n",
       "    <tr>\n",
       "      <th>...</th>\n",
       "      <td>...</td>\n",
       "      <td>...</td>\n",
       "      <td>...</td>\n",
       "      <td>...</td>\n",
       "      <td>...</td>\n",
       "    </tr>\n",
       "    <tr>\n",
       "      <th>21528</th>\n",
       "      <td>30116</td>\n",
       "      <td>Jumpertown</td>\n",
       "      <td>Prentiss County</td>\n",
       "      <td>MS</td>\n",
       "      <td>123656.266913</td>\n",
       "    </tr>\n",
       "    <tr>\n",
       "      <th>21529</th>\n",
       "      <td>30116</td>\n",
       "      <td>Dollar Bay</td>\n",
       "      <td>Houghton County</td>\n",
       "      <td>MI</td>\n",
       "      <td>142639.223189</td>\n",
       "    </tr>\n",
       "    <tr>\n",
       "      <th>21530</th>\n",
       "      <td>30116</td>\n",
       "      <td>Fort Howard</td>\n",
       "      <td>Baltimore County</td>\n",
       "      <td>MD</td>\n",
       "      <td>324701.135018</td>\n",
       "    </tr>\n",
       "    <tr>\n",
       "      <th>21531</th>\n",
       "      <td>30116</td>\n",
       "      <td>Hoisington</td>\n",
       "      <td>Barton County</td>\n",
       "      <td>KS</td>\n",
       "      <td>82661.735966</td>\n",
       "    </tr>\n",
       "    <tr>\n",
       "      <th>21532</th>\n",
       "      <td>30116</td>\n",
       "      <td>Martin City</td>\n",
       "      <td>Flathead County</td>\n",
       "      <td>MT</td>\n",
       "      <td>549400.210617</td>\n",
       "    </tr>\n",
       "  </tbody>\n",
       "</table>\n",
       "<p>21533 rows × 5 columns</p>\n",
       "</div>"
      ],
      "text/plain": [
       "       SizeRank         City          CountyName State      HomePrice\n",
       "0             0     New York       Queens County    NY  757539.748841\n",
       "1             1  Los Angeles  Los Angeles County    CA  950031.781195\n",
       "2             2      Houston       Harris County    TX  265842.211207\n",
       "3             3      Chicago         Cook County    IL  294789.100621\n",
       "4             4  San Antonio        Bexar County    TX  254032.290605\n",
       "...         ...          ...                 ...   ...            ...\n",
       "21528     30116   Jumpertown     Prentiss County    MS  123656.266913\n",
       "21529     30116   Dollar Bay     Houghton County    MI  142639.223189\n",
       "21530     30116  Fort Howard    Baltimore County    MD  324701.135018\n",
       "21531     30116   Hoisington       Barton County    KS   82661.735966\n",
       "21532     30116  Martin City     Flathead County    MT  549400.210617\n",
       "\n",
       "[21533 rows x 5 columns]"
      ]
     },
     "execution_count": 12,
     "metadata": {},
     "output_type": "execute_result"
    }
   ],
   "source": [
    "cleaned_zillow = zillow_DB[['SizeRank', 'RegionName', 'CountyName', 'State', '2024-09-30']].dropna()\n",
    "cleaned_zillow = cleaned_zillow.rename(columns={'RegionName': 'City', '2024-09-30': 'HomePrice'})\n",
    "cleaned_zillow"
   ]
  },
  {
   "cell_type": "code",
   "execution_count": null,
   "metadata": {
    "ExecuteTime": {
     "end_time": "2024-12-13T20:55:33.256665Z",
     "start_time": "2024-12-13T20:55:33.252911Z"
    },
    "colab": {
     "base_uri": "https://localhost:8080/"
    },
    "id": "fktkw36JaWzw",
    "outputId": "a652ff9f-db9d-4810-a4a2-01104f16b270"
   },
   "outputs": [
    {
     "data": {
      "text/plain": [
       "13948"
      ]
     },
     "execution_count": 13,
     "metadata": {},
     "output_type": "execute_result"
    }
   ],
   "source": [
    "cleaned_zillow['City'].nunique()"
   ]
  },
  {
   "cell_type": "code",
   "execution_count": null,
   "metadata": {
    "ExecuteTime": {
     "end_time": "2024-12-13T20:55:34.494410Z",
     "start_time": "2024-12-13T20:55:34.470472Z"
    },
    "colab": {
     "base_uri": "https://localhost:8080/",
     "height": 423
    },
    "id": "vJfF3QIvniod",
    "outputId": "9f679485-534c-4e62-cc05-70a1b058ba98"
   },
   "outputs": [
    {
     "data": {
      "text/html": [
       "<div>\n",
       "<style scoped>\n",
       "    .dataframe tbody tr th:only-of-type {\n",
       "        vertical-align: middle;\n",
       "    }\n",
       "\n",
       "    .dataframe tbody tr th {\n",
       "        vertical-align: top;\n",
       "    }\n",
       "\n",
       "    .dataframe thead th {\n",
       "        text-align: right;\n",
       "    }\n",
       "</style>\n",
       "<table border=\"1\" class=\"dataframe\">\n",
       "  <thead>\n",
       "    <tr style=\"text-align: right;\">\n",
       "      <th></th>\n",
       "      <th>City</th>\n",
       "      <th>CountyName</th>\n",
       "      <th>State</th>\n",
       "      <th>SizeRank</th>\n",
       "      <th>HomePrice</th>\n",
       "    </tr>\n",
       "  </thead>\n",
       "  <tbody>\n",
       "    <tr>\n",
       "      <th>0</th>\n",
       "      <td>Aaronsburg</td>\n",
       "      <td>Centre County</td>\n",
       "      <td>PA</td>\n",
       "      <td>1</td>\n",
       "      <td>1</td>\n",
       "    </tr>\n",
       "    <tr>\n",
       "      <th>14353</th>\n",
       "      <td>Omega</td>\n",
       "      <td>Colquitt County</td>\n",
       "      <td>GA</td>\n",
       "      <td>1</td>\n",
       "      <td>1</td>\n",
       "    </tr>\n",
       "    <tr>\n",
       "      <th>14361</th>\n",
       "      <td>Onalaska</td>\n",
       "      <td>Polk County</td>\n",
       "      <td>TX</td>\n",
       "      <td>1</td>\n",
       "      <td>1</td>\n",
       "    </tr>\n",
       "    <tr>\n",
       "      <th>14360</th>\n",
       "      <td>Onalaska</td>\n",
       "      <td>Lewis County</td>\n",
       "      <td>WA</td>\n",
       "      <td>1</td>\n",
       "      <td>1</td>\n",
       "    </tr>\n",
       "    <tr>\n",
       "      <th>14359</th>\n",
       "      <td>Onalaska</td>\n",
       "      <td>La Crosse County</td>\n",
       "      <td>WI</td>\n",
       "      <td>1</td>\n",
       "      <td>1</td>\n",
       "    </tr>\n",
       "    <tr>\n",
       "      <th>...</th>\n",
       "      <td>...</td>\n",
       "      <td>...</td>\n",
       "      <td>...</td>\n",
       "      <td>...</td>\n",
       "      <td>...</td>\n",
       "    </tr>\n",
       "    <tr>\n",
       "      <th>7176</th>\n",
       "      <td>Garfield</td>\n",
       "      <td>Emanuel County</td>\n",
       "      <td>GA</td>\n",
       "      <td>1</td>\n",
       "      <td>1</td>\n",
       "    </tr>\n",
       "    <tr>\n",
       "      <th>7175</th>\n",
       "      <td>Garfield</td>\n",
       "      <td>Douglas County</td>\n",
       "      <td>MN</td>\n",
       "      <td>1</td>\n",
       "      <td>1</td>\n",
       "    </tr>\n",
       "    <tr>\n",
       "      <th>7174</th>\n",
       "      <td>Garfield</td>\n",
       "      <td>Dona Ana County</td>\n",
       "      <td>NM</td>\n",
       "      <td>1</td>\n",
       "      <td>1</td>\n",
       "    </tr>\n",
       "    <tr>\n",
       "      <th>7173</th>\n",
       "      <td>Garfield</td>\n",
       "      <td>Bergen County</td>\n",
       "      <td>NJ</td>\n",
       "      <td>1</td>\n",
       "      <td>1</td>\n",
       "    </tr>\n",
       "    <tr>\n",
       "      <th>21532</th>\n",
       "      <td>Zwolle</td>\n",
       "      <td>Sabine Parish</td>\n",
       "      <td>LA</td>\n",
       "      <td>1</td>\n",
       "      <td>1</td>\n",
       "    </tr>\n",
       "  </tbody>\n",
       "</table>\n",
       "<p>21533 rows × 5 columns</p>\n",
       "</div>"
      ],
      "text/plain": [
       "             City        CountyName State  SizeRank  HomePrice\n",
       "0      Aaronsburg     Centre County    PA         1          1\n",
       "14353       Omega   Colquitt County    GA         1          1\n",
       "14361    Onalaska       Polk County    TX         1          1\n",
       "14360    Onalaska      Lewis County    WA         1          1\n",
       "14359    Onalaska  La Crosse County    WI         1          1\n",
       "...           ...               ...   ...       ...        ...\n",
       "7176     Garfield    Emanuel County    GA         1          1\n",
       "7175     Garfield    Douglas County    MN         1          1\n",
       "7174     Garfield   Dona Ana County    NM         1          1\n",
       "7173     Garfield     Bergen County    NJ         1          1\n",
       "21532      Zwolle     Sabine Parish    LA         1          1\n",
       "\n",
       "[21533 rows x 5 columns]"
      ]
     },
     "execution_count": 14,
     "metadata": {},
     "output_type": "execute_result"
    }
   ],
   "source": [
    "# Primary Key\n",
    "duplicate_combinations = cleaned_zillow.groupby(['City', 'CountyName', 'State']).count().reset_index().sort_values(by = 'HomePrice', ascending = False)\n",
    "\n",
    "duplicate_combinations"
   ]
  },
  {
   "cell_type": "code",
   "execution_count": null,
   "metadata": {
    "ExecuteTime": {
     "end_time": "2024-12-13T20:58:56.851688Z",
     "start_time": "2024-12-13T20:58:56.846244Z"
    },
    "id": "03YGh89NvVDB"
   },
   "outputs": [],
   "source": [
    "cleaned_zillow = cleaned_zillow.sort_values(\"SizeRank\").drop_duplicates(subset=\"City\", keep=\"first\")"
   ]
  },
  {
   "cell_type": "code",
   "execution_count": null,
   "metadata": {
    "ExecuteTime": {
     "end_time": "2024-12-13T21:00:28.481887Z",
     "start_time": "2024-12-13T21:00:28.479553Z"
    },
    "id": "f-55CSdhvVDB"
   },
   "outputs": [],
   "source": [
    "cleaned_zillow = cleaned_zillow.drop(columns=[\"CountyName\", \"State\", \"SizeRank\"])"
   ]
  },
  {
   "cell_type": "code",
   "execution_count": null,
   "metadata": {
    "ExecuteTime": {
     "end_time": "2024-12-13T22:29:04.580011Z",
     "start_time": "2024-12-13T22:29:04.558183Z"
    },
    "id": "wmln1-3tvVDB"
   },
   "outputs": [],
   "source": [
    "cleaned_zillow.to_csv(\"zillow_home_prices.csv\", index=False)"
   ]
  },
  {
   "cell_type": "code",
   "execution_count": null,
   "metadata": {
    "ExecuteTime": {
     "end_time": "2024-12-15T01:31:13.497041Z",
     "start_time": "2024-12-15T01:31:12.981198Z"
    },
    "id": "P-uCA-xPvVDB",
    "outputId": "659b86c2-a90c-4e71-8b89-d6de0685bb66"
   },
   "outputs": [
    {
     "name": "stderr",
     "output_type": "stream",
     "text": [
      "/var/folders/29/x0y631pn7rz5mp2yrd35gjm00000gn/T/ipykernel_84854/3032519471.py:1: DtypeWarning: Columns (10,11) have mixed types. Specify dtype option on import or set low_memory=False.\n",
      "  health_DB = pd.read_csv('cdc_local_health_data.csv')\n"
     ]
    }
   ],
   "source": [
    "health_DB = pd.read_csv('cdc_local_health_data.csv')"
   ]
  },
  {
   "cell_type": "code",
   "execution_count": null,
   "metadata": {
    "ExecuteTime": {
     "end_time": "2024-12-15T01:31:14.918725Z",
     "start_time": "2024-12-15T01:31:14.806228Z"
    },
    "id": "tw0DdyONin0i"
   },
   "outputs": [],
   "source": [
    "cleaned_health_DB = health_DB[['LocationName', 'StateAbbr', 'TotalPopulation', 'TotalPop18plus', 'Geolocation', 'Measure', 'MeasureId',\n",
    "                               'Data_Value']].dropna()\n",
    "\n",
    "cleaned_health_DB = cleaned_health_DB.rename(columns={'StateAbbr': 'State', 'LocationName': 'Location', 'Data_Value': 'Percent'}).sort_values(\"TotalPopulation\", ascending=False).drop_duplicates(subset=['Location', 'State', 'Measure'], keep=\"first\")"
   ]
  },
  {
   "cell_type": "code",
   "execution_count": null,
   "metadata": {
    "ExecuteTime": {
     "end_time": "2024-12-15T01:31:15.098592Z",
     "start_time": "2024-12-15T01:31:15.092326Z"
    },
    "id": "xDJLzn1JvVDC"
   },
   "outputs": [],
   "source": [
    "cleaned_health_DB = cleaned_health_DB.drop(columns=[\"State\", \"MeasureId\", \"TotalPopulation\", \"TotalPop18plus\", \"Location\"], errors=\"ignore\")"
   ]
  },
  {
   "cell_type": "code",
   "execution_count": null,
   "metadata": {
    "ExecuteTime": {
     "end_time": "2024-12-15T01:31:15.407734Z",
     "start_time": "2024-12-15T01:31:15.334893Z"
    },
    "id": "PawxUPhivVDC"
   },
   "outputs": [],
   "source": [
    "cleaned_health_DB[\"Longitude\"] = cleaned_health_DB[\"Geolocation\"].apply(lambda x: float(x.split()[1][1:]))\n",
    "cleaned_health_DB[\"Latitude\"] = cleaned_health_DB[\"Geolocation\"].apply(lambda x: float(x.split()[2][:-1]))"
   ]
  },
  {
   "cell_type": "code",
   "execution_count": null,
   "metadata": {
    "ExecuteTime": {
     "end_time": "2024-12-15T01:31:15.616168Z",
     "start_time": "2024-12-15T01:31:15.609979Z"
    },
    "id": "I6KelTzpvVDC"
   },
   "outputs": [],
   "source": [
    "cleaned_health_DB = cleaned_health_DB.drop(columns=[\"Geolocation\"])"
   ]
  },
  {
   "cell_type": "code",
   "execution_count": null,
   "metadata": {
    "ExecuteTime": {
     "end_time": "2024-12-15T01:31:15.970832Z",
     "start_time": "2024-12-15T01:31:15.968275Z"
    },
    "id": "5twmBCkBvVDC",
    "outputId": "fef7f17f-8acf-4a2f-b4a2-eb3ce2943494"
   },
   "outputs": [
    {
     "data": {
      "text/plain": [
       "Index(['Measure', 'Percent', 'Longitude', 'Latitude'], dtype='object')"
      ]
     },
     "execution_count": 275,
     "metadata": {},
     "output_type": "execute_result"
    }
   ],
   "source": [
    "cleaned_health_DB.columns"
   ]
  },
  {
   "cell_type": "code",
   "execution_count": null,
   "metadata": {
    "ExecuteTime": {
     "end_time": "2024-12-15T01:31:19.885197Z",
     "start_time": "2024-12-15T01:31:19.615261Z"
    },
    "id": "ygnQCj4BvVDD"
   },
   "outputs": [],
   "source": [
    "cleaned_health_DB.to_csv(\"cleaned_cdc_local_health_data.csv\", index=False)"
   ]
  },
  {
   "cell_type": "code",
   "execution_count": null,
   "metadata": {
    "ExecuteTime": {
     "end_time": "2024-12-13T22:10:44.028292Z",
     "start_time": "2024-12-13T22:10:43.940559Z"
    },
    "colab": {
     "base_uri": "https://localhost:8080/",
     "height": 423
    },
    "id": "zp7KVOTTnpTw",
    "outputId": "646ffb63-3ff0-4146-f330-7a1f572c0a1f"
   },
   "outputs": [
    {
     "data": {
      "text/html": [
       "<div>\n",
       "<style scoped>\n",
       "    .dataframe tbody tr th:only-of-type {\n",
       "        vertical-align: middle;\n",
       "    }\n",
       "\n",
       "    .dataframe tbody tr th {\n",
       "        vertical-align: top;\n",
       "    }\n",
       "\n",
       "    .dataframe thead th {\n",
       "        text-align: right;\n",
       "    }\n",
       "</style>\n",
       "<table border=\"1\" class=\"dataframe\">\n",
       "  <thead>\n",
       "    <tr style=\"text-align: right;\">\n",
       "      <th></th>\n",
       "      <th>NAME</th>\n",
       "      <th>ADDRESS</th>\n",
       "      <th>CITY</th>\n",
       "      <th>STATE</th>\n",
       "      <th>ZIP</th>\n",
       "      <th>LEVEL</th>\n",
       "      <th>ENROLLMENT</th>\n",
       "      <th>FT_TEACHER</th>\n",
       "      <th>TYPE</th>\n",
       "    </tr>\n",
       "  </thead>\n",
       "  <tbody>\n",
       "    <tr>\n",
       "      <th>0</th>\n",
       "      <td>ALDEN-HEBRON HIGH SCHOOL</td>\n",
       "      <td>9604 ILLINOIS ST</td>\n",
       "      <td>HEBRON</td>\n",
       "      <td>IL</td>\n",
       "      <td>60034</td>\n",
       "      <td>HIGH</td>\n",
       "      <td>112</td>\n",
       "      <td>11</td>\n",
       "      <td>public</td>\n",
       "    </tr>\n",
       "    <tr>\n",
       "      <th>1</th>\n",
       "      <td>WESTERLY HILLS ACADEMY</td>\n",
       "      <td>4420 DENVER AVE</td>\n",
       "      <td>CHARLOTTE</td>\n",
       "      <td>NC</td>\n",
       "      <td>28208</td>\n",
       "      <td>ELEMENTARY</td>\n",
       "      <td>495</td>\n",
       "      <td>45</td>\n",
       "      <td>public</td>\n",
       "    </tr>\n",
       "    <tr>\n",
       "      <th>2</th>\n",
       "      <td>NORTHWOOD ELEMENTARY SCHOOL</td>\n",
       "      <td>965 GRIZZLY CUB DR</td>\n",
       "      <td>FRANKLIN</td>\n",
       "      <td>IN</td>\n",
       "      <td>46131</td>\n",
       "      <td>ELEMENTARY</td>\n",
       "      <td>478</td>\n",
       "      <td>25</td>\n",
       "      <td>public</td>\n",
       "    </tr>\n",
       "    <tr>\n",
       "      <th>3</th>\n",
       "      <td>DR. GARY AND ANNETTE AUXIER ELEMENTARY SCHOOL</td>\n",
       "      <td>22700 S. POWER RD.</td>\n",
       "      <td>QUEEN CREEK</td>\n",
       "      <td>AZ</td>\n",
       "      <td>85298</td>\n",
       "      <td>ELEMENTARY</td>\n",
       "      <td>958</td>\n",
       "      <td>51</td>\n",
       "      <td>public</td>\n",
       "    </tr>\n",
       "    <tr>\n",
       "      <th>4</th>\n",
       "      <td>DR. CAMILLE CASTEEL HIGH SCHOOL</td>\n",
       "      <td>24901 S. POWER RD.</td>\n",
       "      <td>QUEEN CREEK</td>\n",
       "      <td>AZ</td>\n",
       "      <td>85142</td>\n",
       "      <td>HIGH</td>\n",
       "      <td>2294</td>\n",
       "      <td>115</td>\n",
       "      <td>public</td>\n",
       "    </tr>\n",
       "    <tr>\n",
       "      <th>...</th>\n",
       "      <td>...</td>\n",
       "      <td>...</td>\n",
       "      <td>...</td>\n",
       "      <td>...</td>\n",
       "      <td>...</td>\n",
       "      <td>...</td>\n",
       "      <td>...</td>\n",
       "      <td>...</td>\n",
       "      <td>...</td>\n",
       "    </tr>\n",
       "    <tr>\n",
       "      <th>133390</th>\n",
       "      <td>NORTHWEST PASSAGE</td>\n",
       "      <td>7818 MOLINE RD</td>\n",
       "      <td>WEBSTER</td>\n",
       "      <td>WI</td>\n",
       "      <td>54893</td>\n",
       "      <td>2</td>\n",
       "      <td>23</td>\n",
       "      <td>2</td>\n",
       "      <td>private</td>\n",
       "    </tr>\n",
       "    <tr>\n",
       "      <th>133391</th>\n",
       "      <td>RHINELANDER CHRISTIAN SCHOOL</td>\n",
       "      <td>123 E MONICO</td>\n",
       "      <td>RHINELANDER</td>\n",
       "      <td>WI</td>\n",
       "      <td>54501</td>\n",
       "      <td>1</td>\n",
       "      <td>12</td>\n",
       "      <td>1</td>\n",
       "      <td>private</td>\n",
       "    </tr>\n",
       "    <tr>\n",
       "      <th>133392</th>\n",
       "      <td>BIG HORN CHRISTIAN ELEMENTARY SCHOOL</td>\n",
       "      <td>201 ASPEN DR</td>\n",
       "      <td>BUFFALO</td>\n",
       "      <td>WY</td>\n",
       "      <td>82834</td>\n",
       "      <td>2</td>\n",
       "      <td>2</td>\n",
       "      <td>1</td>\n",
       "      <td>private</td>\n",
       "    </tr>\n",
       "    <tr>\n",
       "      <th>133393</th>\n",
       "      <td>COLTER HIGH SCHOOL</td>\n",
       "      <td>1550 US HIGHWAY 20 S</td>\n",
       "      <td>WORLAND</td>\n",
       "      <td>WY</td>\n",
       "      <td>82401</td>\n",
       "      <td>2</td>\n",
       "      <td>59</td>\n",
       "      <td>8</td>\n",
       "      <td>private</td>\n",
       "    </tr>\n",
       "    <tr>\n",
       "      <th>133394</th>\n",
       "      <td>SOUTHEASTERN WYOMING JUVENILE CENTER</td>\n",
       "      <td>3304 I80 SERVICE RD</td>\n",
       "      <td>CHEYENNE</td>\n",
       "      <td>WY</td>\n",
       "      <td>82009</td>\n",
       "      <td>2</td>\n",
       "      <td>16</td>\n",
       "      <td>5</td>\n",
       "      <td>private</td>\n",
       "    </tr>\n",
       "  </tbody>\n",
       "</table>\n",
       "<p>127670 rows × 9 columns</p>\n",
       "</div>"
      ],
      "text/plain": [
       "                                                 NAME               ADDRESS  \\\n",
       "0                            ALDEN-HEBRON HIGH SCHOOL      9604 ILLINOIS ST   \n",
       "1                              WESTERLY HILLS ACADEMY       4420 DENVER AVE   \n",
       "2                         NORTHWOOD ELEMENTARY SCHOOL    965 GRIZZLY CUB DR   \n",
       "3       DR. GARY AND ANNETTE AUXIER ELEMENTARY SCHOOL    22700 S. POWER RD.   \n",
       "4                     DR. CAMILLE CASTEEL HIGH SCHOOL    24901 S. POWER RD.   \n",
       "...                                               ...                   ...   \n",
       "133390                              NORTHWEST PASSAGE        7818 MOLINE RD   \n",
       "133391                   RHINELANDER CHRISTIAN SCHOOL          123 E MONICO   \n",
       "133392           BIG HORN CHRISTIAN ELEMENTARY SCHOOL          201 ASPEN DR   \n",
       "133393                             COLTER HIGH SCHOOL  1550 US HIGHWAY 20 S   \n",
       "133394           SOUTHEASTERN WYOMING JUVENILE CENTER   3304 I80 SERVICE RD   \n",
       "\n",
       "               CITY STATE    ZIP       LEVEL  ENROLLMENT  FT_TEACHER     TYPE  \n",
       "0            HEBRON    IL  60034        HIGH         112          11   public  \n",
       "1         CHARLOTTE    NC  28208  ELEMENTARY         495          45   public  \n",
       "2          FRANKLIN    IN  46131  ELEMENTARY         478          25   public  \n",
       "3       QUEEN CREEK    AZ  85298  ELEMENTARY         958          51   public  \n",
       "4       QUEEN CREEK    AZ  85142        HIGH        2294         115   public  \n",
       "...             ...   ...    ...         ...         ...         ...      ...  \n",
       "133390      WEBSTER    WI  54893           2          23           2  private  \n",
       "133391  RHINELANDER    WI  54501           1          12           1  private  \n",
       "133392      BUFFALO    WY  82834           2           2           1  private  \n",
       "133393      WORLAND    WY  82401           2          59           8  private  \n",
       "133394     CHEYENNE    WY  82009           2          16           5  private  \n",
       "\n",
       "[127670 rows x 9 columns]"
      ]
     },
     "execution_count": 73,
     "metadata": {},
     "output_type": "execute_result"
    }
   ],
   "source": [
    "cleaned_public_schools = public_schools[['NAME', 'ADDRESS', 'CITY', 'STATE', 'ZIP', 'LEVEL_', 'ENROLLMENT', 'FT_TEACHER']].dropna()\n",
    "cleaned_public_schools['TYPE'] = 'public'\n",
    "\n",
    "cleaned_private_schools = private_schools[['NAME', 'ADDRESS', 'CITY', 'STATE', 'ZIP', 'LEVEL_', 'ENROLLMENT', 'FT_TEACHER']].dropna()\n",
    "cleaned_private_schools['TYPE'] = 'private'\n",
    "\n",
    "cleaned_schools = pd.concat([cleaned_public_schools, cleaned_private_schools], ignore_index =True)\n",
    "cleaned_schools = cleaned_schools.rename(columns={'LEVEL_': 'LEVEL'})\n",
    "\n",
    "cleaned_schools.drop(cleaned_schools[cleaned_schools['ENROLLMENT'] < 1].index, inplace=True)\n",
    "\n",
    "cleaned_schools.drop_duplicates(subset=['NAME', 'CITY', 'ENROLLMENT'], inplace=True)\n",
    "\n",
    "cleaned_schools"
   ]
  },
  {
   "cell_type": "code",
   "execution_count": null,
   "metadata": {
    "ExecuteTime": {
     "end_time": "2024-12-13T22:10:44.987271Z",
     "start_time": "2024-12-13T22:10:44.847686Z"
    },
    "colab": {
     "base_uri": "https://localhost:8080/",
     "height": 423
    },
    "id": "bpQy2BNAyWv4",
    "outputId": "bb2802fe-fe83-4a50-bd1c-dfaa22006419"
   },
   "outputs": [
    {
     "data": {
      "text/html": [
       "<div>\n",
       "<style scoped>\n",
       "    .dataframe tbody tr th:only-of-type {\n",
       "        vertical-align: middle;\n",
       "    }\n",
       "\n",
       "    .dataframe tbody tr th {\n",
       "        vertical-align: top;\n",
       "    }\n",
       "\n",
       "    .dataframe thead th {\n",
       "        text-align: right;\n",
       "    }\n",
       "</style>\n",
       "<table border=\"1\" class=\"dataframe\">\n",
       "  <thead>\n",
       "    <tr style=\"text-align: right;\">\n",
       "      <th></th>\n",
       "      <th>NAME</th>\n",
       "      <th>CITY</th>\n",
       "      <th>ENROLLMENT</th>\n",
       "      <th>ADDRESS</th>\n",
       "      <th>STATE</th>\n",
       "      <th>ZIP</th>\n",
       "      <th>LEVEL</th>\n",
       "      <th>FT_TEACHER</th>\n",
       "      <th>TYPE</th>\n",
       "    </tr>\n",
       "  </thead>\n",
       "  <tbody>\n",
       "    <tr>\n",
       "      <th>0</th>\n",
       "      <td>'HMAN'SHAWA DAY SCHOOL</td>\n",
       "      <td>FT  M C  DOWELL</td>\n",
       "      <td>23</td>\n",
       "      <td>1</td>\n",
       "      <td>1</td>\n",
       "      <td>1</td>\n",
       "      <td>1</td>\n",
       "      <td>1</td>\n",
       "      <td>1</td>\n",
       "    </tr>\n",
       "    <tr>\n",
       "      <th>85108</th>\n",
       "      <td>PENN VALLEY EL SCH</td>\n",
       "      <td>LEVITTOWN</td>\n",
       "      <td>408</td>\n",
       "      <td>1</td>\n",
       "      <td>1</td>\n",
       "      <td>1</td>\n",
       "      <td>1</td>\n",
       "      <td>1</td>\n",
       "      <td>1</td>\n",
       "    </tr>\n",
       "    <tr>\n",
       "      <th>85121</th>\n",
       "      <td>PENN-KIDDER CAMPUS</td>\n",
       "      <td>ALBRIGHTSVILLE</td>\n",
       "      <td>686</td>\n",
       "      <td>1</td>\n",
       "      <td>1</td>\n",
       "      <td>1</td>\n",
       "      <td>1</td>\n",
       "      <td>1</td>\n",
       "      <td>1</td>\n",
       "    </tr>\n",
       "    <tr>\n",
       "      <th>85120</th>\n",
       "      <td>PENN-GRIFFIN SCHOOLS</td>\n",
       "      <td>HIGH POINT</td>\n",
       "      <td>599</td>\n",
       "      <td>1</td>\n",
       "      <td>1</td>\n",
       "      <td>1</td>\n",
       "      <td>1</td>\n",
       "      <td>1</td>\n",
       "      <td>1</td>\n",
       "    </tr>\n",
       "    <tr>\n",
       "      <th>85119</th>\n",
       "      <td>PENN'S GROVE SCH</td>\n",
       "      <td>OXFORD</td>\n",
       "      <td>622</td>\n",
       "      <td>1</td>\n",
       "      <td>1</td>\n",
       "      <td>1</td>\n",
       "      <td>1</td>\n",
       "      <td>1</td>\n",
       "      <td>1</td>\n",
       "    </tr>\n",
       "    <tr>\n",
       "      <th>...</th>\n",
       "      <td>...</td>\n",
       "      <td>...</td>\n",
       "      <td>...</td>\n",
       "      <td>...</td>\n",
       "      <td>...</td>\n",
       "      <td>...</td>\n",
       "      <td>...</td>\n",
       "      <td>...</td>\n",
       "      <td>...</td>\n",
       "    </tr>\n",
       "    <tr>\n",
       "      <th>42552</th>\n",
       "      <td>GREATER SAN DIEGO ACADEMY</td>\n",
       "      <td>JAMUL</td>\n",
       "      <td>245</td>\n",
       "      <td>1</td>\n",
       "      <td>1</td>\n",
       "      <td>1</td>\n",
       "      <td>1</td>\n",
       "      <td>1</td>\n",
       "      <td>1</td>\n",
       "    </tr>\n",
       "    <tr>\n",
       "      <th>42551</th>\n",
       "      <td>GREATER QUINCY CHILD CARE CENTER</td>\n",
       "      <td>QUINCY</td>\n",
       "      <td>10</td>\n",
       "      <td>1</td>\n",
       "      <td>1</td>\n",
       "      <td>1</td>\n",
       "      <td>1</td>\n",
       "      <td>1</td>\n",
       "      <td>1</td>\n",
       "    </tr>\n",
       "    <tr>\n",
       "      <th>42550</th>\n",
       "      <td>GREATER PORTLAND CHRISTIAN SCHOOL</td>\n",
       "      <td>SOUTH PORTLAND</td>\n",
       "      <td>125</td>\n",
       "      <td>1</td>\n",
       "      <td>1</td>\n",
       "      <td>1</td>\n",
       "      <td>1</td>\n",
       "      <td>1</td>\n",
       "      <td>1</td>\n",
       "    </tr>\n",
       "    <tr>\n",
       "      <th>42549</th>\n",
       "      <td>GREATER PORTLAND CHRISTIAN ACADEMY</td>\n",
       "      <td>PORTLAND</td>\n",
       "      <td>69</td>\n",
       "      <td>1</td>\n",
       "      <td>1</td>\n",
       "      <td>1</td>\n",
       "      <td>1</td>\n",
       "      <td>1</td>\n",
       "      <td>1</td>\n",
       "    </tr>\n",
       "    <tr>\n",
       "      <th>127669</th>\n",
       "      <td>ZWOLLE HIGH SCHOOL</td>\n",
       "      <td>ZWOLLE</td>\n",
       "      <td>335</td>\n",
       "      <td>1</td>\n",
       "      <td>1</td>\n",
       "      <td>1</td>\n",
       "      <td>1</td>\n",
       "      <td>1</td>\n",
       "      <td>1</td>\n",
       "    </tr>\n",
       "  </tbody>\n",
       "</table>\n",
       "<p>127670 rows × 9 columns</p>\n",
       "</div>"
      ],
      "text/plain": [
       "                                      NAME             CITY  ENROLLMENT  \\\n",
       "0                   'HMAN'SHAWA DAY SCHOOL  FT  M C  DOWELL          23   \n",
       "85108                   PENN VALLEY EL SCH        LEVITTOWN         408   \n",
       "85121                   PENN-KIDDER CAMPUS   ALBRIGHTSVILLE         686   \n",
       "85120                 PENN-GRIFFIN SCHOOLS       HIGH POINT         599   \n",
       "85119                     PENN'S GROVE SCH           OXFORD         622   \n",
       "...                                    ...              ...         ...   \n",
       "42552            GREATER SAN DIEGO ACADEMY            JAMUL         245   \n",
       "42551     GREATER QUINCY CHILD CARE CENTER           QUINCY          10   \n",
       "42550    GREATER PORTLAND CHRISTIAN SCHOOL   SOUTH PORTLAND         125   \n",
       "42549   GREATER PORTLAND CHRISTIAN ACADEMY         PORTLAND          69   \n",
       "127669                  ZWOLLE HIGH SCHOOL           ZWOLLE         335   \n",
       "\n",
       "        ADDRESS  STATE  ZIP  LEVEL  FT_TEACHER  TYPE  \n",
       "0             1      1    1      1           1     1  \n",
       "85108         1      1    1      1           1     1  \n",
       "85121         1      1    1      1           1     1  \n",
       "85120         1      1    1      1           1     1  \n",
       "85119         1      1    1      1           1     1  \n",
       "...         ...    ...  ...    ...         ...   ...  \n",
       "42552         1      1    1      1           1     1  \n",
       "42551         1      1    1      1           1     1  \n",
       "42550         1      1    1      1           1     1  \n",
       "42549         1      1    1      1           1     1  \n",
       "127669        1      1    1      1           1     1  \n",
       "\n",
       "[127670 rows x 9 columns]"
      ]
     },
     "execution_count": 74,
     "metadata": {},
     "output_type": "execute_result"
    }
   ],
   "source": [
    "# Primary Key\n",
    "duplicate_combinations = cleaned_schools.groupby(['NAME', 'CITY', 'ENROLLMENT']).count().reset_index().sort_values(by = 'TYPE', ascending = False)\n",
    "\n",
    "duplicate_combinations"
   ]
  },
  {
   "cell_type": "code",
   "execution_count": null,
   "metadata": {
    "ExecuteTime": {
     "end_time": "2024-12-13T22:10:45.358701Z",
     "start_time": "2024-12-13T22:10:45.356527Z"
    },
    "id": "S4APgailvVDD"
   },
   "outputs": [],
   "source": [
    "cleaned_schools[\"ID\"] = cleaned_schools.index"
   ]
  },
  {
   "cell_type": "code",
   "execution_count": null,
   "metadata": {
    "ExecuteTime": {
     "end_time": "2024-12-13T22:10:46.934837Z",
     "start_time": "2024-12-13T22:10:46.931373Z"
    },
    "colab": {
     "base_uri": "https://localhost:8080/"
    },
    "id": "YrZJN9QTdMLj",
    "outputId": "a5c87481-3cf0-4411-bf12-5d5d5babd84f"
   },
   "outputs": [
    {
     "data": {
      "text/plain": [
       "353.0"
      ]
     },
     "execution_count": 77,
     "metadata": {},
     "output_type": "execute_result"
    }
   ],
   "source": [
    "cleaned_schools['ENROLLMENT'].median()"
   ]
  },
  {
   "cell_type": "code",
   "execution_count": null,
   "metadata": {
    "ExecuteTime": {
     "end_time": "2024-12-13T23:32:53.238579Z",
     "start_time": "2024-12-13T23:32:53.236410Z"
    },
    "id": "ihkkBNMrvVDE"
   },
   "outputs": [],
   "source": [
    "def custom_callback(word, **kwargs):\n",
    "    # Words to force lowercase\n",
    "    exceptions = {\"de\", \"del\", \"la\", \"las\", \"les\", \"le\", \"il\", \"los\", \"el\", \"al\", \"sul\", \"delle\"}\n",
    "\n",
    "    # Otherwise, lowercase it if it's in the exceptions list\n",
    "    if word.lower() in exceptions:\n",
    "        return word.lower()\n",
    "\n",
    "    # Default handling for other words\n",
    "    return None"
   ]
  },
  {
   "cell_type": "code",
   "execution_count": null,
   "metadata": {
    "ExecuteTime": {
     "end_time": "2024-12-13T23:24:52.893864Z",
     "start_time": "2024-12-13T23:24:52.875450Z"
    },
    "id": "uGc72rRHvVDE",
    "outputId": "7bb33e16-c67c-4f21-fb94-6757917eab3b"
   },
   "outputs": [
    {
     "data": {
      "text/html": [
       "<div>\n",
       "<style scoped>\n",
       "    .dataframe tbody tr th:only-of-type {\n",
       "        vertical-align: middle;\n",
       "    }\n",
       "\n",
       "    .dataframe tbody tr th {\n",
       "        vertical-align: top;\n",
       "    }\n",
       "\n",
       "    .dataframe thead th {\n",
       "        text-align: right;\n",
       "    }\n",
       "</style>\n",
       "<table border=\"1\" class=\"dataframe\">\n",
       "  <thead>\n",
       "    <tr style=\"text-align: right;\">\n",
       "      <th></th>\n",
       "      <th>NAME</th>\n",
       "      <th>ADDRESS</th>\n",
       "      <th>CITY</th>\n",
       "      <th>LEVEL</th>\n",
       "      <th>ENROLLMENT</th>\n",
       "      <th>FT_TEACHER</th>\n",
       "      <th>TYPE</th>\n",
       "      <th>ID</th>\n",
       "    </tr>\n",
       "  </thead>\n",
       "  <tbody>\n",
       "    <tr>\n",
       "      <th>146</th>\n",
       "      <td>T'iis Nazbas Community School</td>\n",
       "      <td>P.O. Box 2002</td>\n",
       "      <td>Teec Nos Pos</td>\n",
       "      <td>Elementary</td>\n",
       "      <td>184</td>\n",
       "      <td>-999</td>\n",
       "      <td>Public</td>\n",
       "      <td>146</td>\n",
       "    </tr>\n",
       "    <tr>\n",
       "      <th>299</th>\n",
       "      <td>Int'l Leadership of Texas MS-N Richland Hills</td>\n",
       "      <td>4131 Rufe Snow DR</td>\n",
       "      <td>N Richland Hills</td>\n",
       "      <td>Middle</td>\n",
       "      <td>397</td>\n",
       "      <td>27</td>\n",
       "      <td>Public</td>\n",
       "      <td>299</td>\n",
       "    </tr>\n",
       "    <tr>\n",
       "      <th>533</th>\n",
       "      <td>Madison's Trust Elementary</td>\n",
       "      <td>42380 Creighton Rd</td>\n",
       "      <td>Ashburn</td>\n",
       "      <td>Elementary</td>\n",
       "      <td>994</td>\n",
       "      <td>50</td>\n",
       "      <td>Public</td>\n",
       "      <td>533</td>\n",
       "    </tr>\n",
       "    <tr>\n",
       "      <th>1125</th>\n",
       "      <td>St. Andrew's School of Math and Science</td>\n",
       "      <td>30 Chadwick Drive</td>\n",
       "      <td>Charleston</td>\n",
       "      <td>Elementary</td>\n",
       "      <td>807</td>\n",
       "      <td>49</td>\n",
       "      <td>Public</td>\n",
       "      <td>1125</td>\n",
       "    </tr>\n",
       "    <tr>\n",
       "      <th>1487</th>\n",
       "      <td>Kay's Creek Elementary</td>\n",
       "      <td>2260 W Island Dr.</td>\n",
       "      <td>Kaysville</td>\n",
       "      <td>Elementary</td>\n",
       "      <td>667</td>\n",
       "      <td>-999</td>\n",
       "      <td>Public</td>\n",
       "      <td>1487</td>\n",
       "    </tr>\n",
       "    <tr>\n",
       "      <th>...</th>\n",
       "      <td>...</td>\n",
       "      <td>...</td>\n",
       "      <td>...</td>\n",
       "      <td>...</td>\n",
       "      <td>...</td>\n",
       "      <td>...</td>\n",
       "      <td>...</td>\n",
       "      <td>...</td>\n",
       "    </tr>\n",
       "    <tr>\n",
       "      <th>133333</th>\n",
       "      <td>Winwood Children's Center</td>\n",
       "      <td>12301 Lee Jackson Memorial Hwy</td>\n",
       "      <td>Fairfax</td>\n",
       "      <td>1</td>\n",
       "      <td>10</td>\n",
       "      <td>2</td>\n",
       "      <td>Private</td>\n",
       "      <td>133333</td>\n",
       "    </tr>\n",
       "    <tr>\n",
       "      <th>133334</th>\n",
       "      <td>Winwood Children's Center Iii</td>\n",
       "      <td>1841 Explorer St</td>\n",
       "      <td>Reston</td>\n",
       "      <td>1</td>\n",
       "      <td>99</td>\n",
       "      <td>2</td>\n",
       "      <td>Private</td>\n",
       "      <td>133334</td>\n",
       "    </tr>\n",
       "    <tr>\n",
       "      <th>133368</th>\n",
       "      <td>St Mary's Academy</td>\n",
       "      <td>757 138th St S</td>\n",
       "      <td>Tacoma</td>\n",
       "      <td>1</td>\n",
       "      <td>35</td>\n",
       "      <td>4</td>\n",
       "      <td>Private</td>\n",
       "      <td>133368</td>\n",
       "    </tr>\n",
       "    <tr>\n",
       "      <th>133383</th>\n",
       "      <td>Calvary's Christian Academy</td>\n",
       "      <td>510 E Burleigh St</td>\n",
       "      <td>Milwaukee</td>\n",
       "      <td>1</td>\n",
       "      <td>28</td>\n",
       "      <td>5</td>\n",
       "      <td>Private</td>\n",
       "      <td>133383</td>\n",
       "    </tr>\n",
       "    <tr>\n",
       "      <th>133384</th>\n",
       "      <td>Children's House of Manitowoc</td>\n",
       "      <td>4020 Memorial DR</td>\n",
       "      <td>Two Rivers</td>\n",
       "      <td>1</td>\n",
       "      <td>4</td>\n",
       "      <td>1</td>\n",
       "      <td>Private</td>\n",
       "      <td>133384</td>\n",
       "    </tr>\n",
       "  </tbody>\n",
       "</table>\n",
       "<p>1452 rows × 8 columns</p>\n",
       "</div>"
      ],
      "text/plain": [
       "                                                 NAME  \\\n",
       "146                     T'iis Nazbas Community School   \n",
       "299     Int'l Leadership of Texas MS-N Richland Hills   \n",
       "533                        Madison's Trust Elementary   \n",
       "1125          St. Andrew's School of Math and Science   \n",
       "1487                           Kay's Creek Elementary   \n",
       "...                                               ...   \n",
       "133333                      Winwood Children's Center   \n",
       "133334                  Winwood Children's Center Iii   \n",
       "133368                              St Mary's Academy   \n",
       "133383                    Calvary's Christian Academy   \n",
       "133384                  Children's House of Manitowoc   \n",
       "\n",
       "                               ADDRESS              CITY       LEVEL  \\\n",
       "146                      P.O. Box 2002      Teec Nos Pos  Elementary   \n",
       "299                  4131 Rufe Snow DR  N Richland Hills      Middle   \n",
       "533                 42380 Creighton Rd           Ashburn  Elementary   \n",
       "1125                 30 Chadwick Drive        Charleston  Elementary   \n",
       "1487                 2260 W Island Dr.         Kaysville  Elementary   \n",
       "...                                ...               ...         ...   \n",
       "133333  12301 Lee Jackson Memorial Hwy           Fairfax           1   \n",
       "133334                1841 Explorer St            Reston           1   \n",
       "133368                  757 138th St S            Tacoma           1   \n",
       "133383               510 E Burleigh St         Milwaukee           1   \n",
       "133384                4020 Memorial DR        Two Rivers           1   \n",
       "\n",
       "        ENROLLMENT  FT_TEACHER     TYPE      ID  \n",
       "146            184        -999   Public     146  \n",
       "299            397          27   Public     299  \n",
       "533            994          50   Public     533  \n",
       "1125           807          49   Public    1125  \n",
       "1487           667        -999   Public    1487  \n",
       "...            ...         ...      ...     ...  \n",
       "133333          10           2  Private  133333  \n",
       "133334          99           2  Private  133334  \n",
       "133368          35           4  Private  133368  \n",
       "133383          28           5  Private  133383  \n",
       "133384           4           1  Private  133384  \n",
       "\n",
       "[1452 rows x 8 columns]"
      ]
     },
     "execution_count": 181,
     "metadata": {},
     "output_type": "execute_result"
    }
   ],
   "source": [
    "cleaned_schools[cleaned_schools[\"NAME\"].apply(lambda x: \"'\" in x)]"
   ]
  },
  {
   "cell_type": "code",
   "execution_count": null,
   "metadata": {
    "ExecuteTime": {
     "end_time": "2024-12-13T23:33:23.673834Z",
     "start_time": "2024-12-13T23:33:23.671361Z"
    },
    "id": "5lHQex4DvVDE"
   },
   "outputs": [],
   "source": [
    "def case(word):\n",
    "    w = titlecase(word, callback=custom_callback)\n",
    "    w = w[0].upper() + w[1:]\n",
    "\n",
    "    wl = re.split(r', |; | |-|/|\\\\| \\(|\\) | - |--| -- | @ |@', w)\n",
    "\n",
    "    # Filtering out any empty tokens resulting from the split\n",
    "    wl = [token for token in wl if token]\n",
    "\n",
    "    # Capitalize the last token and reconstruct the string\n",
    "    if wl:  # Ensure wl is not empty\n",
    "        last_token = wl[-1][0].upper() + wl[-1][1:]\n",
    "\n",
    "        w = w[:w.rfind(wl[-1])] + last_token\n",
    "\n",
    "    return w"
   ]
  },
  {
   "cell_type": "code",
   "execution_count": null,
   "metadata": {
    "ExecuteTime": {
     "end_time": "2024-12-13T23:33:27.039445Z",
     "start_time": "2024-12-13T23:33:27.033018Z"
    },
    "id": "6cPkHatpvVDE"
   },
   "outputs": [],
   "source": [
    "cleaned_schools = cleaned_schools.drop(columns=[\"STATE\", \"ZIP\"], errors=\"ignore\")"
   ]
  },
  {
   "cell_type": "code",
   "execution_count": null,
   "metadata": {
    "ExecuteTime": {
     "end_time": "2024-12-13T23:37:12.331560Z",
     "start_time": "2024-12-13T23:36:58.903391Z"
    },
    "id": "vSarPA2EvVDE",
    "outputId": "8ffc4b5a-72db-489e-ccbb-3eb66ea76b02"
   },
   "outputs": [
    {
     "name": "stdout",
     "output_type": "stream",
     "text": [
      "NAME\n",
      "ADDRESS\n",
      "CITY\n",
      "TYPE\n"
     ]
    }
   ],
   "source": [
    "for c in [\"NAME\", \"ADDRESS\", \"CITY\", \"TYPE\"]:\n",
    "    cleaned_schools[c] = cleaned_schools[c].apply(case)\n",
    "    print(c)"
   ]
  },
  {
   "cell_type": "code",
   "execution_count": null,
   "metadata": {
    "ExecuteTime": {
     "end_time": "2024-12-13T23:44:04.105739Z",
     "start_time": "2024-12-13T23:44:04.084641Z"
    },
    "id": "a-5E7s5gvVDF"
   },
   "outputs": [],
   "source": [
    "cleaned_schools[\"LEVEL\"] = cleaned_schools[\"LEVEL\"].apply(lambda x: str(x))"
   ]
  },
  {
   "cell_type": "code",
   "execution_count": null,
   "metadata": {
    "ExecuteTime": {
     "end_time": "2024-12-13T23:47:14.862422Z",
     "start_time": "2024-12-13T23:47:14.836916Z"
    },
    "id": "Ctuphg1RvVDF"
   },
   "outputs": [],
   "source": [
    "cleaned_schools[\"ADDRESS\"] = cleaned_schools[\"ADDRESS\"].apply(lambda x: x.title())"
   ]
  },
  {
   "cell_type": "code",
   "execution_count": null,
   "metadata": {
    "ExecuteTime": {
     "end_time": "2024-12-13T23:47:15.283922Z",
     "start_time": "2024-12-13T23:47:15.280979Z"
    },
    "id": "oUP0Mj3HvVDF",
    "outputId": "9115f661-c0a6-4189-e2b2-a001f84c6419"
   },
   "outputs": [
    {
     "data": {
      "text/plain": [
       "0             9604 Illinois St\n",
       "1              4420 Denver Ave\n",
       "2           965 Grizzly Cub Dr\n",
       "3           22700 S. Power Rd.\n",
       "4           24901 S. Power Rd.\n",
       "                  ...         \n",
       "133390          7818 Moline Rd\n",
       "133391            123 E Monico\n",
       "133392            201 Aspen Dr\n",
       "133393    1550 Us Highway 20 S\n",
       "133394     3304 I80 Service Rd\n",
       "Name: ADDRESS, Length: 127670, dtype: object"
      ]
     },
     "execution_count": 229,
     "metadata": {},
     "output_type": "execute_result"
    }
   ],
   "source": [
    "cleaned_schools[\"ADDRESS\"]"
   ]
  },
  {
   "cell_type": "code",
   "execution_count": null,
   "metadata": {
    "ExecuteTime": {
     "end_time": "2024-12-13T23:47:19.899550Z",
     "start_time": "2024-12-13T23:47:19.687374Z"
    },
    "id": "Qnnx2RhyvVDG"
   },
   "outputs": [],
   "source": [
    "cleaned_schools.to_csv(\"schools.csv\", index=False)"
   ]
  },
  {
   "cell_type": "markdown",
   "metadata": {
    "id": "8suUT8rJl4CM"
   },
   "source": [
    "For all: drop null rows.\n",
    "\n",
    "Cleaning numero: Delete extra rank column, separate city column into city + country columns.\n",
    "\n",
    "Cleaning zillow: Drop not needed columns, only include most recent median home prices as of (2024-9-30), rename columns.\n",
    "\n",
    "Cleaning health: Drop not needed columns, rename columns.\n",
    "\n",
    "Cleaning schools: Drop not needed columns, rename columns. Add a 'TYPE' column to each DataFrame to indicate public or private. Concatenate the DataFrames."
   ]
  },
  {
   "cell_type": "code",
   "execution_count": null,
   "metadata": {
    "colab": {
     "base_uri": "https://localhost:8080/",
     "height": 17
    },
    "id": "yteWMFvvgvxo",
    "outputId": "e2622960-1b9f-4301-b067-bc8d10ca4bcf"
   },
   "outputs": [
    {
     "data": {
      "application/javascript": "\n    async function download(id, filename, size) {\n      if (!google.colab.kernel.accessAllowed) {\n        return;\n      }\n      const div = document.createElement('div');\n      const label = document.createElement('label');\n      label.textContent = `Downloading \"${filename}\": `;\n      div.appendChild(label);\n      const progress = document.createElement('progress');\n      progress.max = size;\n      div.appendChild(progress);\n      document.body.appendChild(div);\n\n      const buffers = [];\n      let downloaded = 0;\n\n      const channel = await google.colab.kernel.comms.open(id);\n      // Send a message to notify the kernel that we're ready.\n      channel.send({})\n\n      for await (const message of channel.messages) {\n        // Send a message to notify the kernel that we're ready.\n        channel.send({})\n        if (message.buffers) {\n          for (const buffer of message.buffers) {\n            buffers.push(buffer);\n            downloaded += buffer.byteLength;\n            progress.value = downloaded;\n          }\n        }\n      }\n      const blob = new Blob(buffers, {type: 'application/binary'});\n      const a = document.createElement('a');\n      a.href = window.URL.createObjectURL(blob);\n      a.download = filename;\n      div.appendChild(a);\n      a.click();\n      div.remove();\n    }\n  ",
      "text/plain": [
       "<IPython.core.display.Javascript object>"
      ]
     },
     "metadata": {},
     "output_type": "display_data"
    },
    {
     "data": {
      "application/javascript": "download(\"download_52e2af99-fef2-497f-b728-2b53cfd608e7\", \"cleaned_numbeo_cost_of_living_index.csv\", 10972)",
      "text/plain": [
       "<IPython.core.display.Javascript object>"
      ]
     },
     "metadata": {},
     "output_type": "display_data"
    }
   ],
   "source": [
    "from google.colab import files\n",
    "cleaned_numbeo.to_csv('cleaned_numbeo_cost_of_living_index.csv', index=False)\n",
    "files.download('cleaned_numbeo_cost_of_living_index.csv')\n",
    "\n",
    "# cleaned_zillow.to_csv('cleaned_zillow_home_prices.csv', index=False)\n",
    "# files.download('cleaned_zillow_home_prices.csv')\n",
    "\n",
    "# cleaned_health_DB.to_csv('cleaned_cdc_local_health_data.csv', index=False)\n",
    "# files.download('cleaned_cdc_local_health_data.csv')\n",
    "\n",
    "# cleaned_schools.to_csv('cleaned_schools.csv', index=False)\n",
    "# files.download('cleaned_schools.csv')"
   ]
  }
 ],
 "metadata": {
  "colab": {
   "provenance": []
  },
  "kernelspec": {
   "display_name": "Python 3 (ipykernel)",
   "language": "python",
   "name": "python3"
  },
  "language_info": {
   "name": "python"
  }
 },
 "nbformat": 4,
 "nbformat_minor": 0
}
